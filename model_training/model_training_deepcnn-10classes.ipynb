{
 "cells": [
  {
   "cell_type": "markdown",
   "metadata": {},
   "source": [
    "# Sergio Lopez 02/08/2019"
   ]
  },
  {
   "cell_type": "code",
   "execution_count": 1,
   "metadata": {},
   "outputs": [
    {
     "name": "stderr",
     "output_type": "stream",
     "text": [
      "Using TensorFlow backend.\n"
     ]
    }
   ],
   "source": [
    "import pandas as pd\n",
    "import json\n",
    "import itertools\n",
    "from sklearn.preprocessing import MultiLabelBinarizer\n",
    "from keras.preprocessing.sequence import pad_sequences\n",
    "from keras.models import Sequential\n",
    "from keras.layers import Dense, Embedding, LSTM, GRU, CuDNNLSTM, CuDNNGRU, Dropout, Conv1D, Activation, SpatialDropout1D,\\\n",
    "                            MaxPooling1D, GlobalAveragePooling1D, GlobalMaxPooling1D, Embedding, CuDNNLSTM, BatchNormalization\n",
    "from keras.layers.embeddings import Embedding\n",
    "from keras.regularizers import l2\n",
    "from keras import optimizers\n",
    "from keras import backend as K\n",
    "from matplotlib import pyplot as plt\n",
    "import pickle\n",
    "import numpy as np"
   ]
  },
  {
   "cell_type": "code",
   "execution_count": 2,
   "metadata": {},
   "outputs": [
    {
     "data": {
      "text/plain": [
       "['/job:localhost/replica:0/task:0/device:GPU:0']"
      ]
     },
     "execution_count": 2,
     "metadata": {},
     "output_type": "execute_result"
    }
   ],
   "source": [
    "# check GPU is available\n",
    "K.tensorflow_backend._get_available_gpus()"
   ]
  },
  {
   "cell_type": "code",
   "execution_count": 3,
   "metadata": {},
   "outputs": [
    {
     "name": "stderr",
     "output_type": "stream",
     "text": [
      "C:\\Users\\oro_s\\Anaconda3\\envs\\env0\\lib\\site-packages\\IPython\\core\\interactiveshell.py:2785: DtypeWarning: Columns (10) have mixed types. Specify dtype option on import or set low_memory=False.\n",
      "  interactivity=interactivity, compiler=compiler, result=result)\n"
     ]
    }
   ],
   "source": [
    "full_data = pd.read_csv(\"../dataset/movies_metadata.csv\")"
   ]
  },
  {
   "cell_type": "code",
   "execution_count": 4,
   "metadata": {},
   "outputs": [],
   "source": [
    "data = full_data.loc[:, [\"title\", \"genres\", \"overview\"]]"
   ]
  },
  {
   "cell_type": "code",
   "execution_count": 5,
   "metadata": {},
   "outputs": [
    {
     "data": {
      "text/html": [
       "<div>\n",
       "<style scoped>\n",
       "    .dataframe tbody tr th:only-of-type {\n",
       "        vertical-align: middle;\n",
       "    }\n",
       "\n",
       "    .dataframe tbody tr th {\n",
       "        vertical-align: top;\n",
       "    }\n",
       "\n",
       "    .dataframe thead th {\n",
       "        text-align: right;\n",
       "    }\n",
       "</style>\n",
       "<table border=\"1\" class=\"dataframe\">\n",
       "  <thead>\n",
       "    <tr style=\"text-align: right;\">\n",
       "      <th></th>\n",
       "      <th>title</th>\n",
       "      <th>genres</th>\n",
       "      <th>overview</th>\n",
       "    </tr>\n",
       "  </thead>\n",
       "  <tbody>\n",
       "    <tr>\n",
       "      <th>0</th>\n",
       "      <td>Toy Story</td>\n",
       "      <td>[{'id': 16, 'name': 'Animation'}, {'id': 35, '...</td>\n",
       "      <td>Led by Woody, Andy's toys live happily in his ...</td>\n",
       "    </tr>\n",
       "    <tr>\n",
       "      <th>1</th>\n",
       "      <td>Jumanji</td>\n",
       "      <td>[{'id': 12, 'name': 'Adventure'}, {'id': 14, '...</td>\n",
       "      <td>When siblings Judy and Peter discover an encha...</td>\n",
       "    </tr>\n",
       "    <tr>\n",
       "      <th>2</th>\n",
       "      <td>Grumpier Old Men</td>\n",
       "      <td>[{'id': 10749, 'name': 'Romance'}, {'id': 35, ...</td>\n",
       "      <td>A family wedding reignites the ancient feud be...</td>\n",
       "    </tr>\n",
       "    <tr>\n",
       "      <th>3</th>\n",
       "      <td>Waiting to Exhale</td>\n",
       "      <td>[{'id': 35, 'name': 'Comedy'}, {'id': 18, 'nam...</td>\n",
       "      <td>Cheated on, mistreated and stepped on, the wom...</td>\n",
       "    </tr>\n",
       "    <tr>\n",
       "      <th>4</th>\n",
       "      <td>Father of the Bride Part II</td>\n",
       "      <td>[{'id': 35, 'name': 'Comedy'}]</td>\n",
       "      <td>Just when George Banks has recovered from his ...</td>\n",
       "    </tr>\n",
       "  </tbody>\n",
       "</table>\n",
       "</div>"
      ],
      "text/plain": [
       "                         title  \\\n",
       "0                    Toy Story   \n",
       "1                      Jumanji   \n",
       "2             Grumpier Old Men   \n",
       "3            Waiting to Exhale   \n",
       "4  Father of the Bride Part II   \n",
       "\n",
       "                                              genres  \\\n",
       "0  [{'id': 16, 'name': 'Animation'}, {'id': 35, '...   \n",
       "1  [{'id': 12, 'name': 'Adventure'}, {'id': 14, '...   \n",
       "2  [{'id': 10749, 'name': 'Romance'}, {'id': 35, ...   \n",
       "3  [{'id': 35, 'name': 'Comedy'}, {'id': 18, 'nam...   \n",
       "4                     [{'id': 35, 'name': 'Comedy'}]   \n",
       "\n",
       "                                            overview  \n",
       "0  Led by Woody, Andy's toys live happily in his ...  \n",
       "1  When siblings Judy and Peter discover an encha...  \n",
       "2  A family wedding reignites the ancient feud be...  \n",
       "3  Cheated on, mistreated and stepped on, the wom...  \n",
       "4  Just when George Banks has recovered from his ...  "
      ]
     },
     "execution_count": 5,
     "metadata": {},
     "output_type": "execute_result"
    }
   ],
   "source": [
    "data.head()"
   ]
  },
  {
   "cell_type": "markdown",
   "metadata": {},
   "source": [
    "# Define targets"
   ]
  },
  {
   "cell_type": "code",
   "execution_count": 6,
   "metadata": {},
   "outputs": [
    {
     "data": {
      "text/plain": [
       "{'Foreign': 1622,\n",
       " 'History': 1398,\n",
       " 'Western': 1042,\n",
       " 'Documentary': 3932,\n",
       " 'Adventure': 3496,\n",
       " 'Fantasy': 2313,\n",
       " 'Animation': 1935,\n",
       " 'War': 1323,\n",
       " 'Horror': 4673,\n",
       " 'Music': 1598,\n",
       " 'Action': 6596,\n",
       " 'Mystery': 2467,\n",
       " 'Drama': 20265,\n",
       " 'Science Fiction': 3049,\n",
       " 'Crime': 4307,\n",
       " 'Romance': 6735,\n",
       " 'Thriller': 7624,\n",
       " 'Comedy': 13182,\n",
       " 'TV Movie': 767,\n",
       " 'Family': 2770}"
      ]
     },
     "execution_count": 6,
     "metadata": {},
     "output_type": "execute_result"
    }
   ],
   "source": [
    "# cast genre col to python objects\n",
    "genres_col = list(data[\"genres\"].apply(lambda x: [q[\"name\"] for q in eval(x)]).values)\n",
    "# flatten into a single list\n",
    "genre_occurances = list(itertools.chain.from_iterable(genres_col))\n",
    "genres = set(genre_occurances)\n",
    "# keep genres that appear more than 1 time\n",
    "common_genres_counts = {g: genre_occurances.count(g) for g in genres if genre_occurances.count(g) > 1}\n",
    "common_genres = list(common_genres_counts.keys())\n",
    "common_genres_counts"
   ]
  },
  {
   "cell_type": "code",
   "execution_count": 7,
   "metadata": {},
   "outputs": [
    {
     "data": {
      "text/plain": [
       "('Drama',\n",
       " 'Comedy',\n",
       " 'Thriller',\n",
       " 'Romance',\n",
       " 'Action',\n",
       " 'Horror',\n",
       " 'Crime',\n",
       " 'Documentary',\n",
       " 'Adventure',\n",
       " 'Science Fiction')"
      ]
     },
     "execution_count": 7,
     "metadata": {},
     "output_type": "execute_result"
    }
   ],
   "source": [
    "sorted_common_genres_counts = sorted(common_genres_counts.items(), key=lambda kv: kv[1], reverse=True)\n",
    "ngenres = 10\n",
    "used_genres = list(zip(*(sorted_common_genres_counts[:ngenres])))[0]\n",
    "used_genres"
   ]
  },
  {
   "cell_type": "code",
   "execution_count": 8,
   "metadata": {},
   "outputs": [
    {
     "name": "stdout",
     "output_type": "stream",
     "text": [
      "45466 movies left\n"
     ]
    }
   ],
   "source": [
    "# now let us create the targets by removing non used genres\n",
    "data[\"targets\"] = [[g for g in l if g in used_genres] for l in genres_col]\n",
    "# drop genres column\n",
    "data = data.drop(\"genres\", axis=1)\n",
    "\n",
    "print(\"{} movies left\".format(len(data)))"
   ]
  },
  {
   "cell_type": "code",
   "execution_count": 9,
   "metadata": {},
   "outputs": [
    {
     "data": {
      "text/html": [
       "<div>\n",
       "<style scoped>\n",
       "    .dataframe tbody tr th:only-of-type {\n",
       "        vertical-align: middle;\n",
       "    }\n",
       "\n",
       "    .dataframe tbody tr th {\n",
       "        vertical-align: top;\n",
       "    }\n",
       "\n",
       "    .dataframe thead th {\n",
       "        text-align: right;\n",
       "    }\n",
       "</style>\n",
       "<table border=\"1\" class=\"dataframe\">\n",
       "  <thead>\n",
       "    <tr style=\"text-align: right;\">\n",
       "      <th></th>\n",
       "      <th>title</th>\n",
       "      <th>overview</th>\n",
       "      <th>targets</th>\n",
       "    </tr>\n",
       "  </thead>\n",
       "  <tbody>\n",
       "    <tr>\n",
       "      <th>0</th>\n",
       "      <td>Toy Story</td>\n",
       "      <td>Led by Woody, Andy's toys live happily in his ...</td>\n",
       "      <td>[Comedy]</td>\n",
       "    </tr>\n",
       "    <tr>\n",
       "      <th>1</th>\n",
       "      <td>Jumanji</td>\n",
       "      <td>When siblings Judy and Peter discover an encha...</td>\n",
       "      <td>[Adventure]</td>\n",
       "    </tr>\n",
       "    <tr>\n",
       "      <th>2</th>\n",
       "      <td>Grumpier Old Men</td>\n",
       "      <td>A family wedding reignites the ancient feud be...</td>\n",
       "      <td>[Romance, Comedy]</td>\n",
       "    </tr>\n",
       "    <tr>\n",
       "      <th>3</th>\n",
       "      <td>Waiting to Exhale</td>\n",
       "      <td>Cheated on, mistreated and stepped on, the wom...</td>\n",
       "      <td>[Comedy, Drama, Romance]</td>\n",
       "    </tr>\n",
       "    <tr>\n",
       "      <th>4</th>\n",
       "      <td>Father of the Bride Part II</td>\n",
       "      <td>Just when George Banks has recovered from his ...</td>\n",
       "      <td>[Comedy]</td>\n",
       "    </tr>\n",
       "  </tbody>\n",
       "</table>\n",
       "</div>"
      ],
      "text/plain": [
       "                         title  \\\n",
       "0                    Toy Story   \n",
       "1                      Jumanji   \n",
       "2             Grumpier Old Men   \n",
       "3            Waiting to Exhale   \n",
       "4  Father of the Bride Part II   \n",
       "\n",
       "                                            overview                   targets  \n",
       "0  Led by Woody, Andy's toys live happily in his ...                  [Comedy]  \n",
       "1  When siblings Judy and Peter discover an encha...               [Adventure]  \n",
       "2  A family wedding reignites the ancient feud be...         [Romance, Comedy]  \n",
       "3  Cheated on, mistreated and stepped on, the wom...  [Comedy, Drama, Romance]  \n",
       "4  Just when George Banks has recovered from his ...                  [Comedy]  "
      ]
     },
     "execution_count": 9,
     "metadata": {},
     "output_type": "execute_result"
    }
   ],
   "source": [
    "data.head()"
   ]
  },
  {
   "cell_type": "code",
   "execution_count": 10,
   "metadata": {},
   "outputs": [
    {
     "name": "stdout",
     "output_type": "stream",
     "text": [
      "73859 movies left\n"
     ]
    }
   ],
   "source": [
    "# # remove movies with more than one genre\n",
    "# data = data[data['targets'].map(lambda d: len(d)) == 1]\n",
    "# # unpack genre now that there is a single one\n",
    "# data[\"targets\"] = data[\"targets\"].apply(lambda x: x[0])\n",
    "\n",
    "# ------------------------------------------------------------\n",
    "\n",
    "def splitDataFrameList(df,target_column):\n",
    "    def splitListToRows(row,row_accumulator,target_column):\n",
    "        for s in row[target_column]:\n",
    "            new_row = row.to_dict()\n",
    "            new_row[target_column] = s\n",
    "            row_accumulator.append(new_row)\n",
    "    new_rows = []\n",
    "    df.apply(splitListToRows,axis=1,args = (new_rows,target_column))\n",
    "    new_df = pd.DataFrame(new_rows)\n",
    "    return new_df\n",
    "\n",
    "data = splitDataFrameList(data, \"targets\")\n",
    "\n",
    "print(\"{} movies left\".format(len(data)))"
   ]
  },
  {
   "cell_type": "code",
   "execution_count": 11,
   "metadata": {},
   "outputs": [
    {
     "data": {
      "text/html": [
       "<div>\n",
       "<style scoped>\n",
       "    .dataframe tbody tr th:only-of-type {\n",
       "        vertical-align: middle;\n",
       "    }\n",
       "\n",
       "    .dataframe tbody tr th {\n",
       "        vertical-align: top;\n",
       "    }\n",
       "\n",
       "    .dataframe thead th {\n",
       "        text-align: right;\n",
       "    }\n",
       "</style>\n",
       "<table border=\"1\" class=\"dataframe\">\n",
       "  <thead>\n",
       "    <tr style=\"text-align: right;\">\n",
       "      <th></th>\n",
       "      <th>overview</th>\n",
       "      <th>targets</th>\n",
       "      <th>title</th>\n",
       "    </tr>\n",
       "  </thead>\n",
       "  <tbody>\n",
       "    <tr>\n",
       "      <th>0</th>\n",
       "      <td>Led by Woody, Andy's toys live happily in his ...</td>\n",
       "      <td>Comedy</td>\n",
       "      <td>Toy Story</td>\n",
       "    </tr>\n",
       "    <tr>\n",
       "      <th>1</th>\n",
       "      <td>When siblings Judy and Peter discover an encha...</td>\n",
       "      <td>Adventure</td>\n",
       "      <td>Jumanji</td>\n",
       "    </tr>\n",
       "    <tr>\n",
       "      <th>2</th>\n",
       "      <td>A family wedding reignites the ancient feud be...</td>\n",
       "      <td>Romance</td>\n",
       "      <td>Grumpier Old Men</td>\n",
       "    </tr>\n",
       "    <tr>\n",
       "      <th>3</th>\n",
       "      <td>A family wedding reignites the ancient feud be...</td>\n",
       "      <td>Comedy</td>\n",
       "      <td>Grumpier Old Men</td>\n",
       "    </tr>\n",
       "    <tr>\n",
       "      <th>4</th>\n",
       "      <td>Cheated on, mistreated and stepped on, the wom...</td>\n",
       "      <td>Comedy</td>\n",
       "      <td>Waiting to Exhale</td>\n",
       "    </tr>\n",
       "  </tbody>\n",
       "</table>\n",
       "</div>"
      ],
      "text/plain": [
       "                                            overview    targets  \\\n",
       "0  Led by Woody, Andy's toys live happily in his ...     Comedy   \n",
       "1  When siblings Judy and Peter discover an encha...  Adventure   \n",
       "2  A family wedding reignites the ancient feud be...    Romance   \n",
       "3  A family wedding reignites the ancient feud be...     Comedy   \n",
       "4  Cheated on, mistreated and stepped on, the wom...     Comedy   \n",
       "\n",
       "               title  \n",
       "0          Toy Story  \n",
       "1            Jumanji  \n",
       "2   Grumpier Old Men  \n",
       "3   Grumpier Old Men  \n",
       "4  Waiting to Exhale  "
      ]
     },
     "execution_count": 11,
     "metadata": {},
     "output_type": "execute_result"
    }
   ],
   "source": [
    "data.head()"
   ]
  },
  {
   "cell_type": "markdown",
   "metadata": {},
   "source": [
    "# filter out non valid samples and resample for balance\n"
   ]
  },
  {
   "cell_type": "code",
   "execution_count": 12,
   "metadata": {},
   "outputs": [
    {
     "name": "stdout",
     "output_type": "stream",
     "text": [
      "72959 movies left\n"
     ]
    }
   ],
   "source": [
    "# drop movies with some non defined value\n",
    "data = data.dropna(axis=0)\n",
    "print(\"{} movies left\".format(len(data)))"
   ]
  },
  {
   "cell_type": "code",
   "execution_count": 13,
   "metadata": {},
   "outputs": [
    {
     "name": "stdout",
     "output_type": "stream",
     "text": [
      "72798 movies left\n"
     ]
    }
   ],
   "source": [
    "# drop movies with \"not found\" plot\n",
    "data = data[data['overview'] != \"No overview found.\"]\n",
    "print(\"{} movies left\".format(len(data)))"
   ]
  },
  {
   "cell_type": "code",
   "execution_count": 14,
   "metadata": {},
   "outputs": [
    {
     "data": {
      "text/plain": [
       "{'Drama': 19979,\n",
       " 'Comedy': 12745,\n",
       " 'Thriller': 7570,\n",
       " 'Romance': 6667,\n",
       " 'Action': 6552,\n",
       " 'Horror': 4647,\n",
       " 'Crime': 4265,\n",
       " 'Documentary': 3883,\n",
       " 'Adventure': 3469,\n",
       " 'Science Fiction': 3021}"
      ]
     },
     "execution_count": 14,
     "metadata": {},
     "output_type": "execute_result"
    }
   ],
   "source": [
    "# check imbalance in dataset\n",
    "used_genres_counts = {g: list(data[\"targets\"].values).count(g) for g in list(used_genres)}\n",
    "used_genres_counts"
   ]
  },
  {
   "cell_type": "code",
   "execution_count": 15,
   "metadata": {},
   "outputs": [
    {
     "name": "stdout",
     "output_type": "stream",
     "text": [
      "NOT ENOUGH SAMPLES! RESAMPLING FOR GENRE Drama\n",
      "NOT ENOUGH SAMPLES! RESAMPLING FOR GENRE Comedy\n",
      "NOT ENOUGH SAMPLES! RESAMPLING FOR GENRE Thriller\n",
      "NOT ENOUGH SAMPLES! RESAMPLING FOR GENRE Romance\n",
      "NOT ENOUGH SAMPLES! RESAMPLING FOR GENRE Action\n",
      "NOT ENOUGH SAMPLES! RESAMPLING FOR GENRE Horror\n",
      "NOT ENOUGH SAMPLES! RESAMPLING FOR GENRE Crime\n",
      "NOT ENOUGH SAMPLES! RESAMPLING FOR GENRE Documentary\n",
      "NOT ENOUGH SAMPLES! RESAMPLING FOR GENRE Adventure\n",
      "NOT ENOUGH SAMPLES! RESAMPLING FOR GENRE Science Fiction\n"
     ]
    },
    {
     "data": {
      "text/plain": [
       "200000"
      ]
     },
     "execution_count": 15,
     "metadata": {},
     "output_type": "execute_result"
    }
   ],
   "source": [
    "# subsample dataset to balance it out\n",
    "nsamples = 20000\n",
    "\n",
    "def subsample_frame(df, column, nsamples):\n",
    "    r = []\n",
    "    for c in used_genres:\n",
    "        c_samples = df.loc[df[column] == c, :]\n",
    "        # c_choices = c_samples.sample(nsamples, axis=0, replace=True)\n",
    "        if used_genres_counts[c] > nsamples:\n",
    "            c_choices = c_samples.iloc[:nsamples, :]\n",
    "        else:\n",
    "            print(\"NOT ENOUGH SAMPLES! RESAMPLING FOR GENRE {}\".format(c))\n",
    "            c_choices = pd.concat([c_samples, c_samples.sample(nsamples - used_genres_counts[c], replace=True)])\n",
    "        r.append(c_choices)\n",
    "\n",
    "    return pd.concat(r, ignore_index=True).sample(frac=1).reset_index(drop=True)\n",
    "\n",
    "\n",
    "baldata = subsample_frame(data, \"targets\", nsamples)\n",
    "# baldata = data\n",
    "len(baldata)"
   ]
  },
  {
   "cell_type": "code",
   "execution_count": 16,
   "metadata": {},
   "outputs": [
    {
     "data": {
      "text/plain": [
       "{'Drama': 20000,\n",
       " 'Comedy': 20000,\n",
       " 'Thriller': 20000,\n",
       " 'Romance': 20000,\n",
       " 'Action': 20000,\n",
       " 'Horror': 20000,\n",
       " 'Crime': 20000,\n",
       " 'Documentary': 20000,\n",
       " 'Adventure': 20000,\n",
       " 'Science Fiction': 20000}"
      ]
     },
     "execution_count": 16,
     "metadata": {},
     "output_type": "execute_result"
    }
   ],
   "source": [
    "# check imbalance in dataset AGAIN AFTER RESAMPLING\n",
    "{g: list(baldata[\"targets\"].values).count(g) for g in list(used_genres)}"
   ]
  },
  {
   "cell_type": "markdown",
   "metadata": {},
   "source": [
    "# Refine input text"
   ]
  },
  {
   "cell_type": "code",
   "execution_count": 17,
   "metadata": {},
   "outputs": [
    {
     "data": {
      "text/html": [
       "<div>\n",
       "<style scoped>\n",
       "    .dataframe tbody tr th:only-of-type {\n",
       "        vertical-align: middle;\n",
       "    }\n",
       "\n",
       "    .dataframe tbody tr th {\n",
       "        vertical-align: top;\n",
       "    }\n",
       "\n",
       "    .dataframe thead th {\n",
       "        text-align: right;\n",
       "    }\n",
       "</style>\n",
       "<table border=\"1\" class=\"dataframe\">\n",
       "  <thead>\n",
       "    <tr style=\"text-align: right;\">\n",
       "      <th></th>\n",
       "      <th>overview</th>\n",
       "      <th>targets</th>\n",
       "      <th>title</th>\n",
       "    </tr>\n",
       "  </thead>\n",
       "  <tbody>\n",
       "    <tr>\n",
       "      <th>0</th>\n",
       "      <td>[A, policeman, is, assigned, by, his, superior...</td>\n",
       "      <td>Science Fiction</td>\n",
       "      <td>Into Pitch Black</td>\n",
       "    </tr>\n",
       "    <tr>\n",
       "      <th>1</th>\n",
       "      <td>[A, youth, potion, transforms, an, old, crone,...</td>\n",
       "      <td>Science Fiction</td>\n",
       "      <td>Satanik</td>\n",
       "    </tr>\n",
       "    <tr>\n",
       "      <th>2</th>\n",
       "      <td>[Umekichi, ,, a, geisha, in, the, Gion, distri...</td>\n",
       "      <td>Drama</td>\n",
       "      <td>Sisters of the Gion</td>\n",
       "    </tr>\n",
       "    <tr>\n",
       "      <th>3</th>\n",
       "      <td>[A, young, man, finds, out, that, he, holds, t...</td>\n",
       "      <td>Adventure</td>\n",
       "      <td>Titan A.E.</td>\n",
       "    </tr>\n",
       "    <tr>\n",
       "      <th>4</th>\n",
       "      <td>[Crown, Prince, Rudolf, of, Austria, (, Omar, ...</td>\n",
       "      <td>Romance</td>\n",
       "      <td>Mayerling</td>\n",
       "    </tr>\n",
       "  </tbody>\n",
       "</table>\n",
       "</div>"
      ],
      "text/plain": [
       "                                            overview          targets  \\\n",
       "0  [A, policeman, is, assigned, by, his, superior...  Science Fiction   \n",
       "1  [A, youth, potion, transforms, an, old, crone,...  Science Fiction   \n",
       "2  [Umekichi, ,, a, geisha, in, the, Gion, distri...            Drama   \n",
       "3  [A, young, man, finds, out, that, he, holds, t...        Adventure   \n",
       "4  [Crown, Prince, Rudolf, of, Austria, (, Omar, ...          Romance   \n",
       "\n",
       "                 title  \n",
       "0     Into Pitch Black  \n",
       "1              Satanik  \n",
       "2  Sisters of the Gion  \n",
       "3           Titan A.E.  \n",
       "4            Mayerling  "
      ]
     },
     "execution_count": 17,
     "metadata": {},
     "output_type": "execute_result"
    }
   ],
   "source": [
    "# tokenize plots\n",
    "from nltk import word_tokenize\n",
    "baldata[\"overview\"] = baldata[\"overview\"].apply(lambda x: word_tokenize(x))\n",
    "\n",
    "baldata.head()"
   ]
  },
  {
   "cell_type": "code",
   "execution_count": 18,
   "metadata": {},
   "outputs": [],
   "source": [
    "# remove proper nouns\n",
    "# from nltk.tag import pos_tag\n",
    "# baldata[\"overview\"] = baldata[\"overview\"].apply(lambda x: [w for w,p in pos_tag(x) if p != 'NNP' and p!= 'NNPS'])\n",
    "\n",
    "# baldata.head()"
   ]
  },
  {
   "cell_type": "code",
   "execution_count": 19,
   "metadata": {},
   "outputs": [
    {
     "data": {
      "text/html": [
       "<div>\n",
       "<style scoped>\n",
       "    .dataframe tbody tr th:only-of-type {\n",
       "        vertical-align: middle;\n",
       "    }\n",
       "\n",
       "    .dataframe tbody tr th {\n",
       "        vertical-align: top;\n",
       "    }\n",
       "\n",
       "    .dataframe thead th {\n",
       "        text-align: right;\n",
       "    }\n",
       "</style>\n",
       "<table border=\"1\" class=\"dataframe\">\n",
       "  <thead>\n",
       "    <tr style=\"text-align: right;\">\n",
       "      <th></th>\n",
       "      <th>overview</th>\n",
       "      <th>targets</th>\n",
       "      <th>title</th>\n",
       "    </tr>\n",
       "  </thead>\n",
       "  <tbody>\n",
       "    <tr>\n",
       "      <th>0</th>\n",
       "      <td>[policeman, assigned, superior, officer, find,...</td>\n",
       "      <td>Science Fiction</td>\n",
       "      <td>Into Pitch Black</td>\n",
       "    </tr>\n",
       "    <tr>\n",
       "      <th>1</th>\n",
       "      <td>[youth, potion, transforms, old, crone, ravish...</td>\n",
       "      <td>Science Fiction</td>\n",
       "      <td>Satanik</td>\n",
       "    </tr>\n",
       "    <tr>\n",
       "      <th>2</th>\n",
       "      <td>[umekichi, geisha, gion, district, kyoto, feel...</td>\n",
       "      <td>Drama</td>\n",
       "      <td>Sisters of the Gion</td>\n",
       "    </tr>\n",
       "    <tr>\n",
       "      <th>3</th>\n",
       "      <td>[young, man, finds, holds, key, restoring, hop...</td>\n",
       "      <td>Adventure</td>\n",
       "      <td>Titan A.E.</td>\n",
       "    </tr>\n",
       "    <tr>\n",
       "      <th>4</th>\n",
       "      <td>[crown, prince, rudolf, austria, omar, sharif,...</td>\n",
       "      <td>Romance</td>\n",
       "      <td>Mayerling</td>\n",
       "    </tr>\n",
       "  </tbody>\n",
       "</table>\n",
       "</div>"
      ],
      "text/plain": [
       "                                            overview          targets  \\\n",
       "0  [policeman, assigned, superior, officer, find,...  Science Fiction   \n",
       "1  [youth, potion, transforms, old, crone, ravish...  Science Fiction   \n",
       "2  [umekichi, geisha, gion, district, kyoto, feel...            Drama   \n",
       "3  [young, man, finds, holds, key, restoring, hop...        Adventure   \n",
       "4  [crown, prince, rudolf, austria, omar, sharif,...          Romance   \n",
       "\n",
       "                 title  \n",
       "0     Into Pitch Black  \n",
       "1              Satanik  \n",
       "2  Sisters of the Gion  \n",
       "3           Titan A.E.  \n",
       "4            Mayerling  "
      ]
     },
     "execution_count": 19,
     "metadata": {},
     "output_type": "execute_result"
    }
   ],
   "source": [
    "# remove stop words and punctuation and set all words to lower case\n",
    "from nltk import word_tokenize\n",
    "from nltk.corpus import stopwords\n",
    "import string\n",
    "from stop_words import get_stop_words\n",
    "\n",
    "# stop = stopwords.words('english') + list(string.punctuation)\n",
    "stop = list(get_stop_words('en'))  + list(string.punctuation)\n",
    "baldata[\"overview\"] = baldata[\"overview\"].apply(lambda x: [w.lower() for w in x if w not in stop])\n",
    "\n",
    "# make sure no punctuation symbols remain in any word\n",
    "def strip_punctuaction(s):\n",
    "    for x in string.punctuation:\n",
    "        s = s.replace(x, \"\")\n",
    "    return s\n",
    "baldata[\"overview\"] = baldata[\"overview\"].apply(lambda x: [strip_punctuaction(w)  for w in x if w not in stop and  w != \"\"])\n",
    "\n",
    "\n",
    "baldata.head()\n",
    "\n",
    "\n"
   ]
  },
  {
   "cell_type": "code",
   "execution_count": 20,
   "metadata": {},
   "outputs": [
    {
     "data": {
      "text/html": [
       "<div>\n",
       "<style scoped>\n",
       "    .dataframe tbody tr th:only-of-type {\n",
       "        vertical-align: middle;\n",
       "    }\n",
       "\n",
       "    .dataframe tbody tr th {\n",
       "        vertical-align: top;\n",
       "    }\n",
       "\n",
       "    .dataframe thead th {\n",
       "        text-align: right;\n",
       "    }\n",
       "</style>\n",
       "<table border=\"1\" class=\"dataframe\">\n",
       "  <thead>\n",
       "    <tr style=\"text-align: right;\">\n",
       "      <th></th>\n",
       "      <th>overview</th>\n",
       "      <th>targets</th>\n",
       "      <th>title</th>\n",
       "    </tr>\n",
       "  </thead>\n",
       "  <tbody>\n",
       "    <tr>\n",
       "      <th>0</th>\n",
       "      <td>policeman assigned superior officer find appre...</td>\n",
       "      <td>Science Fiction</td>\n",
       "      <td>Into Pitch Black</td>\n",
       "    </tr>\n",
       "    <tr>\n",
       "      <th>1</th>\n",
       "      <td>youth potion transforms old crone ravishing be...</td>\n",
       "      <td>Science Fiction</td>\n",
       "      <td>Satanik</td>\n",
       "    </tr>\n",
       "    <tr>\n",
       "      <th>2</th>\n",
       "      <td>umekichi geisha gion district kyoto feels obli...</td>\n",
       "      <td>Drama</td>\n",
       "      <td>Sisters of the Gion</td>\n",
       "    </tr>\n",
       "    <tr>\n",
       "      <th>3</th>\n",
       "      <td>young man finds holds key restoring hope ensur...</td>\n",
       "      <td>Adventure</td>\n",
       "      <td>Titan A.E.</td>\n",
       "    </tr>\n",
       "    <tr>\n",
       "      <th>4</th>\n",
       "      <td>crown prince rudolf austria omar sharif clashe...</td>\n",
       "      <td>Romance</td>\n",
       "      <td>Mayerling</td>\n",
       "    </tr>\n",
       "  </tbody>\n",
       "</table>\n",
       "</div>"
      ],
      "text/plain": [
       "                                            overview          targets  \\\n",
       "0  policeman assigned superior officer find appre...  Science Fiction   \n",
       "1  youth potion transforms old crone ravishing be...  Science Fiction   \n",
       "2  umekichi geisha gion district kyoto feels obli...            Drama   \n",
       "3  young man finds holds key restoring hope ensur...        Adventure   \n",
       "4  crown prince rudolf austria omar sharif clashe...          Romance   \n",
       "\n",
       "                 title  \n",
       "0     Into Pitch Black  \n",
       "1              Satanik  \n",
       "2  Sisters of the Gion  \n",
       "3           Titan A.E.  \n",
       "4            Mayerling  "
      ]
     },
     "execution_count": 20,
     "metadata": {},
     "output_type": "execute_result"
    }
   ],
   "source": [
    "# put together words into a single string\n",
    "baldata[\"overview\"] = baldata[\"overview\"].apply(lambda x: \" \".join(x))\n",
    "\n",
    "baldata.head()"
   ]
  },
  {
   "cell_type": "code",
   "execution_count": 21,
   "metadata": {},
   "outputs": [
    {
     "name": "stdout",
     "output_type": "stream",
     "text": [
      "['Action' 'Adventure' 'Comedy' 'Crime' 'Documentary' 'Drama' 'Horror'\n",
      " 'Romance' 'Science Fiction' 'Thriller']\n",
      "(200000, 10)\n",
      "[[0 0 0 0 0 0 0 0 1 0]\n",
      " [0 0 0 0 0 0 0 0 1 0]\n",
      " [0 0 0 0 0 1 0 0 0 0]\n",
      " [0 1 0 0 0 0 0 0 0 0]\n",
      " [0 0 0 0 0 0 0 1 0 0]\n",
      " [0 0 0 0 0 0 1 0 0 0]\n",
      " [0 0 0 0 1 0 0 0 0 0]\n",
      " [0 0 0 1 0 0 0 0 0 0]\n",
      " [0 0 1 0 0 0 0 0 0 0]\n",
      " [0 0 0 0 0 0 1 0 0 0]]\n"
     ]
    }
   ],
   "source": [
    "# put together one hot targets\n",
    "onehot_encoder = MultiLabelBinarizer()\n",
    "onehot_encoder.fit([{x} for x in used_genres])\n",
    "y_train = onehot_encoder.transform([{x} for x in baldata[\"targets\"]])\n",
    "\n",
    "print(onehot_encoder.classes_)\n",
    "print(y_train.shape)\n",
    "print(y_train[:10, :])"
   ]
  },
  {
   "cell_type": "markdown",
   "metadata": {},
   "source": [
    "# tokenize movie plots into fixed size nummeric sequences"
   ]
  },
  {
   "cell_type": "code",
   "execution_count": 22,
   "metadata": {},
   "outputs": [],
   "source": [
    "from keras.preprocessing.text import Tokenizer\n",
    "from sklearn.feature_extraction.text import TfidfVectorizer\n",
    "\n",
    "# extract input training data\n",
    "x_train = baldata[\"overview\"].values\n",
    "\n",
    "tokenizer = Tokenizer()\n",
    "tokenizer.fit_on_texts(x_train)\n",
    "# define vocabulary size\n",
    "vocab_size = len(tokenizer.word_index) + 1\n",
    "# map words to numbers\n",
    "x_train_tokens = tokenizer.texts_to_sequences(x_train)\n",
    "# pad sequences\n",
    "max_length = max([len(x) for x in x_train])\n",
    "x_train_pad = pad_sequences(x_train_tokens, maxlen=max_length, padding='post')"
   ]
  },
  {
   "cell_type": "code",
   "execution_count": 23,
   "metadata": {},
   "outputs": [
    {
     "name": "stdout",
     "output_type": "stream",
     "text": [
      "81595\n",
      "925\n",
      "(200000, 925)\n",
      "10\n",
      "81595\n"
     ]
    }
   ],
   "source": [
    "print(vocab_size)\n",
    "print(max_length)\n",
    "print(x_train_pad.shape)\n",
    "print(len(used_genres))\n",
    "print(vocab_size)"
   ]
  },
  {
   "cell_type": "markdown",
   "metadata": {},
   "source": [
    "# Training our model"
   ]
  },
  {
   "cell_type": "code",
   "execution_count": 29,
   "metadata": {},
   "outputs": [
    {
     "name": "stdout",
     "output_type": "stream",
     "text": [
      "Train on 160000 samples, validate on 40000 samples\n",
      "Epoch 1/40\n",
      "160000/160000 [==============================] - 52s 326us/step - loss: 2.3023 - acc: 0.1026 - val_loss: 2.3013 - val_acc: 0.1230\n",
      "Epoch 2/40\n",
      "160000/160000 [==============================] - 51s 320us/step - loss: 2.2707 - acc: 0.1325 - val_loss: 2.1510 - val_acc: 0.2351\n",
      "Epoch 3/40\n",
      "160000/160000 [==============================] - 51s 320us/step - loss: 1.9865 - acc: 0.2667 - val_loss: 1.8677 - val_acc: 0.3691\n",
      "Epoch 4/40\n",
      "160000/160000 [==============================] - 51s 320us/step - loss: 1.7594 - acc: 0.3586 - val_loss: 1.7111 - val_acc: 0.4297\n",
      "Epoch 5/40\n",
      "160000/160000 [==============================] - 51s 320us/step - loss: 1.6261 - acc: 0.4138 - val_loss: 1.6157 - val_acc: 0.4615\n",
      "Epoch 6/40\n",
      "160000/160000 [==============================] - 51s 321us/step - loss: 1.5399 - acc: 0.4452 - val_loss: 1.5620 - val_acc: 0.4777\n",
      "Epoch 7/40\n",
      "160000/160000 [==============================] - 51s 320us/step - loss: 1.4715 - acc: 0.4699 - val_loss: 1.5135 - val_acc: 0.4893\n",
      "Epoch 8/40\n",
      "160000/160000 [==============================] - 51s 321us/step - loss: 1.4168 - acc: 0.4906 - val_loss: 1.4725 - val_acc: 0.4971\n",
      "Epoch 9/40\n",
      "160000/160000 [==============================] - 51s 321us/step - loss: 1.3774 - acc: 0.5051 - val_loss: 1.4416 - val_acc: 0.5036\n",
      "Epoch 10/40\n",
      "160000/160000 [==============================] - 51s 320us/step - loss: 1.3415 - acc: 0.5163 - val_loss: 1.4240 - val_acc: 0.5076\n",
      "Epoch 11/40\n",
      "160000/160000 [==============================] - 51s 321us/step - loss: 1.3117 - acc: 0.5257 - val_loss: 1.4005 - val_acc: 0.5152\n",
      "Epoch 12/40\n",
      "160000/160000 [==============================] - 51s 321us/step - loss: 1.2848 - acc: 0.5349 - val_loss: 1.3890 - val_acc: 0.5169\n",
      "Epoch 13/40\n",
      "160000/160000 [==============================] - 51s 321us/step - loss: 1.2645 - acc: 0.5416 - val_loss: 1.3706 - val_acc: 0.5211\n",
      "Epoch 14/40\n",
      "160000/160000 [==============================] - 51s 320us/step - loss: 1.2439 - acc: 0.5482 - val_loss: 1.3620 - val_acc: 0.5245\n",
      "Epoch 15/40\n",
      "160000/160000 [==============================] - 51s 320us/step - loss: 1.2263 - acc: 0.5547 - val_loss: 1.3537 - val_acc: 0.5294\n",
      "Epoch 16/40\n",
      "160000/160000 [==============================] - 51s 321us/step - loss: 1.2084 - acc: 0.5592 - val_loss: 1.3432 - val_acc: 0.5310\n",
      "Epoch 17/40\n",
      "160000/160000 [==============================] - 51s 320us/step - loss: 1.1949 - acc: 0.5643 - val_loss: 1.3328 - val_acc: 0.5309\n",
      "Epoch 18/40\n",
      "160000/160000 [==============================] - 51s 321us/step - loss: 1.1794 - acc: 0.5689 - val_loss: 1.3292 - val_acc: 0.5316\n",
      "Epoch 19/40\n",
      "160000/160000 [==============================] - 51s 320us/step - loss: 1.1671 - acc: 0.5736 - val_loss: 1.3191 - val_acc: 0.5325\n",
      "Epoch 20/40\n",
      "160000/160000 [==============================] - 51s 321us/step - loss: 1.1562 - acc: 0.5772 - val_loss: 1.3144 - val_acc: 0.5340\n",
      "Epoch 21/40\n",
      "160000/160000 [==============================] - 51s 321us/step - loss: 1.1454 - acc: 0.5803 - val_loss: 1.3113 - val_acc: 0.5349\n",
      "Epoch 22/40\n",
      "160000/160000 [==============================] - 51s 321us/step - loss: 1.1353 - acc: 0.5826 - val_loss: 1.3069 - val_acc: 0.5386\n",
      "Epoch 23/40\n",
      "160000/160000 [==============================] - 51s 321us/step - loss: 1.1234 - acc: 0.5870 - val_loss: 1.3007 - val_acc: 0.5403\n",
      "Epoch 24/40\n",
      "160000/160000 [==============================] - 51s 321us/step - loss: 1.1150 - acc: 0.5883 - val_loss: 1.3019 - val_acc: 0.5398\n",
      "Epoch 25/40\n",
      "160000/160000 [==============================] - 51s 321us/step - loss: 1.1045 - acc: 0.5894 - val_loss: 1.2938 - val_acc: 0.5401\n",
      "Epoch 26/40\n",
      "160000/160000 [==============================] - 51s 321us/step - loss: 1.0972 - acc: 0.5921 - val_loss: 1.2902 - val_acc: 0.5432\n",
      "Epoch 27/40\n",
      "160000/160000 [==============================] - 51s 321us/step - loss: 1.0861 - acc: 0.5948 - val_loss: 1.2903 - val_acc: 0.5399\n",
      "Epoch 28/40\n",
      "160000/160000 [==============================] - 51s 320us/step - loss: 1.0792 - acc: 0.5983 - val_loss: 1.2892 - val_acc: 0.5421\n",
      "Epoch 29/40\n",
      "160000/160000 [==============================] - 51s 320us/step - loss: 1.0697 - acc: 0.6011 - val_loss: 1.2881 - val_acc: 0.5445\n",
      "Epoch 30/40\n",
      "160000/160000 [==============================] - 51s 320us/step - loss: 1.0608 - acc: 0.6025 - val_loss: 1.2836 - val_acc: 0.5440\n",
      "Epoch 31/40\n",
      "160000/160000 [==============================] - 51s 320us/step - loss: 1.0523 - acc: 0.6053 - val_loss: 1.2833 - val_acc: 0.5473\n",
      "Epoch 32/40\n",
      "160000/160000 [==============================] - 51s 321us/step - loss: 1.0467 - acc: 0.6057 - val_loss: 1.2811 - val_acc: 0.5501\n",
      "Epoch 33/40\n",
      "160000/160000 [==============================] - 51s 320us/step - loss: 1.0366 - acc: 0.6077 - val_loss: 1.2808 - val_acc: 0.5506\n",
      "Epoch 34/40\n",
      "160000/160000 [==============================] - 51s 320us/step - loss: 1.0312 - acc: 0.6088 - val_loss: 1.2786 - val_acc: 0.5509\n",
      "Epoch 35/40\n",
      "160000/160000 [==============================] - 51s 320us/step - loss: 1.0252 - acc: 0.6105 - val_loss: 1.2741 - val_acc: 0.5521\n",
      "Epoch 36/40\n",
      "160000/160000 [==============================] - 51s 320us/step - loss: 1.0170 - acc: 0.6124 - val_loss: 1.2741 - val_acc: 0.5508\n",
      "Epoch 37/40\n",
      "160000/160000 [==============================] - 51s 321us/step - loss: 1.0120 - acc: 0.6142 - val_loss: 1.2771 - val_acc: 0.5491\n",
      "Epoch 38/40\n",
      "160000/160000 [==============================] - 51s 320us/step - loss: 1.0043 - acc: 0.6160 - val_loss: 1.2736 - val_acc: 0.5522\n",
      "Epoch 39/40\n",
      "160000/160000 [==============================] - 51s 321us/step - loss: 0.9987 - acc: 0.6165 - val_loss: 1.2760 - val_acc: 0.5531\n",
      "Epoch 40/40\n",
      "160000/160000 [==============================] - 51s 321us/step - loss: 0.9939 - acc: 0.6188 - val_loss: 1.2733 - val_acc: 0.5558\n"
     ]
    }
   ],
   "source": [
    "\n",
    "# train model using vector representations of length 200\n",
    "EMBEDDING_DIM = 64\n",
    "\n",
    "model = Sequential()\n",
    "model.add(Embedding(vocab_size, EMBEDDING_DIM, input_length=max_length))\n",
    "model.add(Conv1D(64, kernel_size=5, activation='relu'))\n",
    "model.add(Conv1D(64, kernel_size=5, activation='relu'))\n",
    "model.add(Dropout(0.5))\n",
    "model.add(MaxPooling1D())\n",
    "model.add(Conv1D(64, kernel_size=3, activation='relu'))\n",
    "model.add(Conv1D(64, kernel_size=3, activation='relu'))\n",
    "model.add(GlobalMaxPooling1D())\n",
    "model.add(Dropout(0.5))\n",
    "model.add(Dense(len(used_genres), activation = \"softmax\")) #, kernel_regularizer=l2(0.01)))\n",
    "\n",
    "model.compile(loss=\"categorical_crossentropy\",\n",
    "              optimizer = optimizers.Adam(lr=0.00005), # 00005\n",
    "              metrics=[\"accuracy\"])\n",
    "\n",
    "history = model.fit(x_train_pad, y_train, batch_size=128, epochs=40, validation_split=0.2, shuffle=True, verbose=True)"
   ]
  },
  {
   "cell_type": "code",
   "execution_count": 30,
   "metadata": {},
   "outputs": [
    {
     "data": {
      "text/plain": [
       "Text(0.5, 1.0, 'Accuracy')"
      ]
     },
     "execution_count": 30,
     "metadata": {},
     "output_type": "execute_result"
    },
    {
     "data": {
      "image/png": "[encoded data removed]",
      "text/plain": [
       "<Figure size 2400x640 with 2 Axes>"
      ]
     },
     "metadata": {},
     "output_type": "display_data"
    }
   ],
   "source": [
    "fig=plt.figure(figsize=(30, 8), dpi= 80, facecolor='w', edgecolor='k')\n",
    "\n",
    "histories = [history]\n",
    "\n",
    "plt.subplot(1,3,1, )\n",
    "plt.plot(list(itertools.chain.from_iterable([x.history['loss'] for x in histories])))\n",
    "plt.plot(list(itertools.chain.from_iterable([x.history['val_loss'] for x in histories])))\n",
    "plt.legend(['train loss', 'val loss', 'train acc', 'val acc', 'auroc', 'auroc val'], loc='lower left')\n",
    "plt.title(\"Loss\")\n",
    "\n",
    "plt.subplot(1,3,2)\n",
    "plt.plot(list(itertools.chain.from_iterable([x.history['acc'] for x in histories])))\n",
    "plt.plot(list(itertools.chain.from_iterable([x.history['val_acc'] for x in histories])))\n",
    "plt.legend(['train acc', 'val acc', ], loc='lower left')\n",
    "plt.title(\"Accuracy\")"
   ]
  },
  {
   "cell_type": "markdown",
   "metadata": {},
   "source": [
    "# Testing on made up movies"
   ]
  },
  {
   "cell_type": "code",
   "execution_count": 32,
   "metadata": {},
   "outputs": [
    {
     "name": "stdout",
     "output_type": "stream",
     "text": [
      "Drama: 0.10991725325584412 \n",
      "\n",
      "Comedy: 0.12171925604343414 \n",
      "\n",
      "Thriller: 0.0875123143196106 \n",
      "\n",
      "Romance: 0.11768709123134613 \n",
      "\n",
      "Action: 0.05882999300956726 \n",
      "\n",
      "Horror: 0.08865319192409515 \n",
      "\n",
      "Crime: 0.10999249666929245 \n",
      "\n",
      "Documentary: 0.10122369229793549 \n",
      "\n",
      "Adventure: 0.09532798081636429 \n",
      "\n",
      "Science Fiction: 0.1091366857290268 \n",
      "\n"
     ]
    }
   ],
   "source": [
    "title = \"The endless war\"\n",
    "# description = \"The Avengers and their allies must be willing to sacrifice all in an attempt to defeat the powerful Thanos before his blitz of devastation and ruin puts an end to the universe.\"\n",
    "description = \"cesar attacks the nazi germany and destroys everyone in his path\"\n",
    "# tokenize\n",
    "input_string = word_tokenize(description)\n",
    "# remove proper names\n",
    "# input_string = [w for w,p in pos_tag(input_string) if p != 'NNP']\n",
    "# remove stop words\n",
    "input_string = [w.lower() for w in input_string if w not in stop]\n",
    "# put together in a single string\n",
    "input_string = \" \".join(input_string)\n",
    "\n",
    "\n",
    "dense_input = pad_sequences(tokenizer.texts_to_sequences([input_string]), maxlen=max_length, padding='post')\n",
    "pred = model.predict(dense_input)\n",
    "\n",
    "for i, p in enumerate(np.squeeze(pred).tolist()):\n",
    "    print(\"{0}: {1} \\n\".format(used_genres[i], p))\n",
    "    "
   ]
  },
  {
   "cell_type": "code",
   "execution_count": 33,
   "metadata": {},
   "outputs": [],
   "source": [
    "# save model\n",
    "model.save(\"../model/model.h5\")\n",
    "# save keras tokenizer\n",
    "tokenizer_json = tokenizer.to_json()\n",
    "with open('../model/keras_tokenizer.json', 'w', encoding='utf-8') as f:\n",
    "    f.write(json.dumps(tokenizer_json, ensure_ascii=False))\n",
    "# save extra nummeric parameters to disk in a dictionary\n",
    "params = {'max_length': max_length, \"used_genres\": used_genres}\n",
    "with open('../model/parameters.pickle', 'wb') as h:\n",
    "    pickle.dump(params, h, protocol=pickle.HIGHEST_PROTOCOL)\n",
    "\n"
   ]
  },
  {
   "cell_type": "code",
   "execution_count": null,
   "metadata": {},
   "outputs": [],
   "source": []
  },
  {
   "cell_type": "code",
   "execution_count": null,
   "metadata": {},
   "outputs": [],
   "source": []
  },
  {
   "cell_type": "code",
   "execution_count": null,
   "metadata": {},
   "outputs": [],
   "source": []
  }
 ],
 "metadata": {
  "kernelspec": {
   "display_name": "Python 3",
   "language": "python",
   "name": "python3"
  },
  "language_info": {
   "codemirror_mode": {
    "name": "ipython",
    "version": 3
   },
   "file_extension": ".py",
   "mimetype": "text/x-python",
   "name": "python",
   "nbconvert_exporter": "python",
   "pygments_lexer": "ipython3",
   "version": "3.6.6"
  }
 },
 "nbformat": 4,
 "nbformat_minor": 2
}
